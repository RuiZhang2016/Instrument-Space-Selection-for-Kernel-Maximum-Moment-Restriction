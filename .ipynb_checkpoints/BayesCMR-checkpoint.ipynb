{
 "cells": [
  {
   "cell_type": "markdown",
   "metadata": {},
   "source": [
    "# Bayesian Conditional Moment Restriction\n",
    "\n",
    "We know that\n",
    "\\begin{equation}\n",
    "\\mathbb{E} \\left[(Y-f(X)) h(Z)\\right] = 0\\qquad \\forall h\n",
    "\\end{equation}\n",
    "\n",
    "Given observed data $\\{\\mathbf{X}, \\mathbf{Y}, \\mathbf{Z}\\} = \\{(x_i, y_i, z_i)\\}_{i=1}^N$, we want to learn the function $f$ such that the above statement is satisfied.  \n",
    "Denote $\\mathbf{h} = h(\\mathbf{Z})$ and similarly, $\\mathbf{f} = f(\\mathbf{Z})$.  \n",
    "Define $b = \\sum_{i=1}^N (f(x_i) - y_i) h(z_i)\\ =\\ \\mathbf{h}^\\intercal\\mathbf{f} - \\mathbf{h}^\\intercal\\mathbf{Y}$ the empirical expectation above (up to a factor $1/N$ which can be ignored)."
   ]
  },
  {
   "cell_type": "code",
   "execution_count": 1,
   "metadata": {},
   "outputs": [],
   "source": [
    "import numpy as np\n",
    "import scipy.linalg as slinalg\n",
    "from scipy.optimize import minimize\n",
    "import matplotlib.pyplot as plt\n",
    "import sys\n",
    "from util_original import get_median_inter_mnist, Kernel, load_data, ROOT_PATH, jitchol, _sqdist\n",
    "# sys.path.insert(0, \"/home/alex/Projects/MMRIV/\")"
   ]
  },
  {
   "cell_type": "code",
   "execution_count": 2,
   "metadata": {},
   "outputs": [],
   "source": [
    "# Some fake data\n",
    "class DataGen():\n",
    "    def __init__(self, slope_1=3.0, slope_2=0.15,\n",
    "                 intercept_1=0.0, intercept_2=0.0):\n",
    "        self.slope_1 = slope_1\n",
    "        self.slope_2 = slope_2\n",
    "        self.intercept_1 = intercept_1\n",
    "        self.intercept_2 = intercept_2\n",
    "\n",
    "    def generate_data(self, num_data, **kwargs):\n",
    "\n",
    "        epsilon = 4.e-1*np.random.normal(size=(num_data,1)) # 4e-1\n",
    "        eta = 1.e-1*np.random.normal(size=(num_data,1))\n",
    "        z = 2*np.random.normal(size=(num_data, 1))\n",
    "\n",
    "        x = -z + epsilon\n",
    "        g = self.g_fun(x)\n",
    "        y = g + epsilon + eta\n",
    "        \n",
    "        return x, y, z, g\n",
    "\n",
    "    def g_fun(self, x):\n",
    "        return (x+np.abs(x)) > 0 # np.sin(x)"
   ]
  },
  {
   "cell_type": "code",
   "execution_count": 5,
   "metadata": {},
   "outputs": [],
   "source": [
    "np.random.seed(0)\n",
    "\n",
    "# hls = DataGen()\n",
    "# X, Y, Z, G= hls.generate_data(400)\n",
    "# print(X.shape, Y.shape, Z.shape)\n",
    "sname = 'linear'\n",
    "datasize=200\n",
    "train, dev, test = load_data(ROOT_PATH + '/data/zoo/{}_{}.npz'.format(sname, datasize))\n",
    "X = np.vstack((train.x, dev.x))\n",
    "Y = np.vstack((train.y, dev.y))\n",
    "Z = np.vstack((train.z, dev.z))\n",
    "Z = Z[:,[0]]\n",
    "test_X = test.x\n",
    "test_G = test.g"
   ]
  },
  {
   "cell_type": "code",
   "execution_count": 6,
   "metadata": {},
   "outputs": [
    {
     "data": {
      "image/png": "[encoded data removed]",
      "text/plain": [
       "<Figure size 1296x216 with 3 Axes>"
      ]
     },
     "metadata": {},
     "output_type": "display_data"
    }
   ],
   "source": [
    "fig, ax = plt.subplots(1, 3, figsize=(18,3))\n",
    "\n",
    "ax[0].scatter(X, Y)\n",
    "ax[1].scatter(Z, X)\n",
    "ax[2].scatter(Z, Y)\n",
    "\n",
    "xlabel = ['x', 'z', 'z']\n",
    "ylabel = ['y', 'x', 'y']\n",
    "\n",
    "for i in range(3):\n",
    "    ax[i].set_xlabel(xlabel[i])\n",
    "    ax[i].set_ylabel(ylabel[i])"
   ]
  },
  {
   "cell_type": "markdown",
   "metadata": {},
   "source": [
    "## 1. Bayesian Model\n",
    "\n",
    "We set up the following probabilistic model:\n",
    "- **prior:** $f\\sim \\mathcal{GP} (m, k)$\n",
    "- **likelihood:** $ \\mathbf{h} \\mid \\mathbf{f} \\sim \\delta (\\mathbf{h}^\\intercal\\mathbf{f} - \\mathbf{h}^\\intercal\\mathbf{Y})$\n",
    "\n",
    "Since we are dealing with linear projections of $f$ in the likelihood, the posterior is available in closed form :-)\n",
    "\n",
    "Given one \"observation\" (choice) of $\\mathbf{h}$ we find the following posterior on $f$:\n",
    "$$ \n",
    "f \\mid \\mathbf{h} \\sim\n",
    "\\mathcal{GP} \\left(m_\\cdot + k_{\\cdot\\mathbf{X}} \\mathbf{h} (\\mathbf{h}^\\intercal \\mathbf{K} \\mathbf{h})^{-1} \\mathbf{h}^\\intercal (\\mathbf{m} - \\mathbf{Y}),\n",
    "k_{\\cdot\\cdot} - k_{\\cdot\\mathbf{X}} \\mathbf{h} (\\mathbf{h}^\\intercal \\mathbf{K} \\mathbf{h})^{-1} \\mathbf{h}^\\intercal k_{\\mathbf{X}\\cdot}\n",
    "\\right)\n",
    "$$\n",
    "\n",
    "with $\\mathbf{K} = k_{\\mathbf{X} \\mathbf{X}}$, $\\mathbf{m} = m(\\mathbf{X})$"
   ]
  },
  {
   "cell_type": "code",
   "execution_count": 7,
   "metadata": {},
   "outputs": [],
   "source": [
    "class GP_model:\n",
    "    def __init__(self, data, kernel):\n",
    "        self.data = data\n",
    "        self.kernel = kernel\n",
    "        self.K = self.kernel.k(self.data.X, self.data.X)\n",
    "    \n",
    "    def predict(self, x, full_cov=False):\n",
    "        if self.data.H is None:\n",
    "            return self._prior(x, full_cov=full_cov)\n",
    "        kXx = self.kernel.k(self.data.X, x)\n",
    "        mean = kXx.T @ self._mid_matrix() @ self.data.Y\n",
    "        cov = self.kernel.k(x,x) - kXx.T @ self._mid_matrix() @ kXx\n",
    "        if full_cov:\n",
    "            return mean, cov\n",
    "        else:\n",
    "            return mean, np.diag(cov)\n",
    "        \n",
    "    def _mid_matrix(self):\n",
    "        HKH = self.data.H.T @ (self.K @ self.data.H)\n",
    "        L_HKH, low = slinalg.cho_factor(HKH + 1.e-6 * np.eye(self.data.H.shape[-1]))\n",
    "        return self.data.H @ slinalg.cho_solve((L_HKH, low), self.data.H.T)\n",
    "    \n",
    "    def _prior(self, x, full_cov):\n",
    "        cov = self.kernel.k(x,x) if full_cov else np.diag(self.kernel.k(x,x))\n",
    "        return np.zeros((x.shape[0], 1)), cov\n",
    "      \n",
    "        \n",
    "class SE_kernel:\n",
    "    def __init__(self, lengthscale, variance):\n",
    "        self.l = lengthscale\n",
    "        self.v = variance\n",
    "        \n",
    "    def k(self, x1, x2):\n",
    "        arg = ((x1[:, None, :] - x2[None, :, :])**2).sum(axis=-1)/(2.*self.l**2)\n",
    "        return self.v * np.exp(-arg)\n",
    "    \n",
    "\n",
    "class Data:\n",
    "    \"\"\"\n",
    "    Class to keep track of data\n",
    "    \"\"\"\n",
    "    def __init__(self, X, Y, Z):\n",
    "        self.X = X\n",
    "        self.Y = Y\n",
    "        self.Z = Z # actually we don't need and care about Z for the Bayesian model at the moment\n",
    "        self.num_data = self.X.shape[0]\n",
    "        self.H = None\n",
    "        \n",
    "    def add_h_obs(self, h):\n",
    "        \"\"\"\n",
    "        Add an observation of h\n",
    "        \"\"\"\n",
    "        if len(h.shape) != 2:\n",
    "            h = h.reshape(self.num_data, -1)\n",
    "        if self.H is None:\n",
    "            self.H = h\n",
    "        else:\n",
    "            self.H = np.hstack([self.H, h])"
   ]
  },
  {
   "cell_type": "markdown",
   "metadata": {},
   "source": [
    "### Let's get an idea of the effect of conditioning on $\\mathbf{h}$"
   ]
  },
  {
   "cell_type": "code",
   "execution_count": 8,
   "metadata": {},
   "outputs": [
    {
     "data": {
      "text/plain": [
       "<matplotlib.collections.PolyCollection at 0x12cc76eb8>"
      ]
     },
     "execution_count": 8,
     "metadata": {},
     "output_type": "execute_result"
    },
    {
     "data": {
      "image/png": "[encoded data removed]",
      "text/plain": [
       "<Figure size 576x288 with 1 Axes>"
      ]
     },
     "metadata": {},
     "output_type": "display_data"
    }
   ],
   "source": [
    "data = Data(X, Y, Z)\n",
    "\n",
    "h0 = Z\n",
    "data.add_h_obs(h0)\n",
    "\n",
    "k = SE_kernel(1., 1.)\n",
    "gp = GP_model(data, k)\n",
    "\n",
    "x_plot = np.linspace(-7, 7, 50).reshape(-1,1)\n",
    "f_mean, f_var = gp.predict(x_plot)\n",
    "\n",
    "fig, ax = plt.subplots(1, 1, figsize=(8,4))\n",
    "ax.scatter(X, Y)\n",
    "ax.plot(x_plot, f_mean, c='C3')\n",
    "ax.fill_between(x_plot[:,0], f_mean[:,0] - 2.*np.sqrt(f_var), f_mean[:,0] + 2.*np.sqrt(f_var), color='C3', alpha=0.3)"
   ]
  },
  {
   "cell_type": "markdown",
   "metadata": {},
   "source": [
    "### 2. Active Learning Strategy\n",
    "\n",
    "We sequentially wish to select values of $\\mathbf{h}$ such that the unconditional moment relation reduces the variance of $f$ at locations $\\mathbf{X}$.\n",
    "As utility function, let us consider the sum over the variance of $\\mathbf{f}$, i.e.,\n",
    "\\begin{align}\n",
    "u(\\mathbf{h}) \n",
    "&= \\operatorname{tr} \\left(\\mathbf{K} - \\mathbf{K} \\mathbf{h} (\\mathbf{h}^\\intercal \\mathbf{K} \\mathbf{h})^{-1} \\mathbf{h}^\\intercal \\mathbf{K} \\right)\\\\\n",
    "&= \\operatorname{tr} \\left(\\mathbf{K} \\right) - \\frac{\\mathbf{h}^\\intercal \\mathbf{K} \\mathbf{K} \\mathbf{h}}{\\mathbf{h}^\\intercal \\mathbf{K} \\mathbf{h}}\n",
    "\\end{align}\n",
    "\n",
    "Then we want to find\n",
    "$$\n",
    "\\mathbf{h}_\\ast = \\operatorname{argmin}_{\\mathbf{h} \\in \\mathbb{R}^N} u(\\mathbf{h}).\n",
    "$$\n",
    "A regularizer can be included in the optimization.  \n",
    "\n",
    "Let us collect $M$ instances of $\\mathbf{h}$ in $\\mathbf{H} \\in \\mathbb{R}^{N\\times M}$. Given previous choices of $\\mathbf{h}$, the utility becomes\n",
    "\n",
    "$$\n",
    "u(\\mathbf{h} \\mid \\mathbf{H})\n",
    "= \\operatorname{tr} \\left(\\mathbf{K} - \\mathbf{D}\\right) \n",
    "- \\frac{\\mathbf{h}^\\intercal(\\mathbf{K} - \\mathbf{D})(\\mathbf{K} - \\mathbf{D})\\mathbf{h}}{\\mathbf{h}^\\intercal(\\mathbf{K} - \\mathbf{D}) \\mathbf{h}}\n",
    "$$\n",
    "\n",
    "with $\\mathbf{D} = \\mathbf{K} \\mathbf{H} (\\mathbf{H}^\\intercal \\mathbf{K} \\mathbf{H})^{-1} \\mathbf{H}^\\intercal \\mathbf{K}$"
   ]
  },
  {
   "cell_type": "code",
   "execution_count": 9,
   "metadata": {},
   "outputs": [],
   "source": [
    "class Utility:\n",
    "    def __init__(self, gp_model):\n",
    "        self.gp = gp_model\n",
    "    \n",
    "    def evaluate(self, h, grad=True):\n",
    "        KminD = self._KminD()\n",
    "        hAh = np.einsum('i,ij,j->', h, KminD, h)\n",
    "        hAAh = np.einsum('i,ij,jk, k->', h, KminD, KminD, h)\n",
    "        \n",
    "        if grad:\n",
    "            Ah = np.einsum('ij,j->i', KminD, h)\n",
    "            AAh = np.einsum('ij,jk,k->i', KminD, KminD, h)\n",
    "            return np.trace(KminD) - hAAh / hAh, hAAh/hAh**2 * Ah - AAh / hAh \n",
    "        \n",
    "        return np.trace(KminD) - hAAh / hAh\n",
    "    \n",
    "    def grad(self, h):\n",
    "        _, g = self.evaluate(h, grad=True)\n",
    "        return g\n",
    "    \n",
    "    def hess(self, h):\n",
    "        pass\n",
    "        \n",
    "    def _KminD(self):\n",
    "        if self.gp.data.H is None:\n",
    "            return self.gp.K\n",
    "        H_HKHinv_H = self.gp._mid_matrix()\n",
    "        return self.gp.K - self.gp.K @ H_HKHinv_H @ self.gp.K"
   ]
  },
  {
   "cell_type": "markdown",
   "metadata": {},
   "source": [
    "## 3. Run the active learning loop\n"
   ]
  },
  {
   "cell_type": "code",
   "execution_count": 10,
   "metadata": {},
   "outputs": [],
   "source": [
    "data = Data(X, Y, Z)\n",
    "\n",
    "k = SE_kernel(1., 1.)\n",
    "gp = GP_model(data, k)\n",
    "\n",
    "# Check: predict uses the prior since H is None\n",
    "x_plot = np.linspace(-7, 7, 50).reshape(-1,1)\n",
    "f_mean, f_var = gp.predict(x_plot)\n",
    "\n",
    "# define utility\n",
    "u = Utility(gp)"
   ]
  },
  {
   "cell_type": "code",
   "execution_count": null,
   "metadata": {},
   "outputs": [],
   "source": [
    "# run active learning loop\n",
    "\n",
    "n_loop = 10\n",
    "\n",
    "for i in range(n_loop):\n",
    "    min_u = minimize(u.evaluate, np.ones_like(h0), jac=True)\n",
    "    h_new = min_u.x\n",
    "    data.add_h_obs(h_new)\n",
    "    \n",
    "\n",
    "    # plot intermediate GP posterior and selections of h\n",
    "    f_mean, f_var = gp.predict(x_plot)\n",
    "    \n",
    "    fig, ax = plt.subplots(1, 2, figsize=(12,3))\n",
    "    ax[0].scatter(X, Y)\n",
    "    ax[0].plot(x_plot, f_mean, c='C3')\n",
    "    \n",
    "    f_mean_X, _ = gp.predict(test.x)\n",
    "    print(np.mean((f_mean_X - test.g)**2,axis=0))\n",
    "    \n",
    "    ax[0].fill_between(x_plot[:,0], f_mean[:,0] - 2.*np.sqrt(f_var), f_mean[:,0] + 2.*np.sqrt(f_var), color='C3', alpha=0.3)\n",
    "    ax[0].set_xlabel('x')\n",
    "    ax[0].set_xlabel('y')\n",
    "    \n",
    "    ax[1].scatter(Z, h_new)\n",
    "    ax[1].set_xlabel('Z')\n",
    "    ax[1].set_xlabel('h(Z)')\n"
   ]
  },
  {
   "cell_type": "code",
   "execution_count": null,
   "metadata": {},
   "outputs": [],
   "source": []
  }
 ],
 "metadata": {
  "kernelspec": {
   "display_name": "Python 3",
   "language": "python",
   "name": "python3"
  },
  "language_info": {
   "codemirror_mode": {
    "name": "ipython",
    "version": 3
   },
   "file_extension": ".py",
   "mimetype": "text/x-python",
   "name": "python",
   "nbconvert_exporter": "python",
   "pygments_lexer": "ipython3",
   "version": "3.6.4"
  }
 },
 "nbformat": 4,
 "nbformat_minor": 4
}
